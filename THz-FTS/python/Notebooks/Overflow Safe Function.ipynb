{
 "cells": [
  {
   "cell_type": "code",
   "execution_count": 13,
   "metadata": {},
   "outputs": [],
   "source": [
    "import numpy\n",
    "from pylab import *"
   ]
  },
  {
   "cell_type": "code",
   "execution_count": 86,
   "metadata": {},
   "outputs": [
    {
     "name": "stdout",
     "output_type": "stream",
     "text": [
      "Minimum Value Calculated: 2.7262332910039430432e-4919\n"
     ]
    },
    {
     "data": {
      "image/png": "[encoded data removed]",
      "text/plain": [
       "<Figure size 432x288 with 1 Axes>"
      ]
     },
     "metadata": {
      "needs_background": "light"
     },
     "output_type": "display_data"
    },
    {
     "name": "stdout",
     "output_type": "stream",
     "text": [
      "Input 0.0001 \tOutput 9.999500008333333096e-05\n",
      "Input 1.0 \tOutput 0.58197670686932642437\n",
      "Input 10000.0 \tOutput 1.1354838653147360985e-4343\n"
     ]
    }
   ],
   "source": [
    "#array of x values from 1e-10 to 1e10 in log space, using the correct dtype\n",
    "x = numpy.logspace(-10,10,1000,dtype=numpy.float128)\n",
    "\n",
    "#reformulated power_integral function to work with arrays or numbers, avoiding overflow\n",
    "def power_integral(x):\n",
    "    #if we have a list, convert to numpy array\n",
    "    if(type(x) == list):\n",
    "        x = numpy.ndarray(dtype=numpy.float128)\n",
    "        \n",
    "    #if we have a numpy array, proceed\n",
    "    if(type(x) == numpy.ndarray):\n",
    "        retvals=numpy.zeros_like(x,dtype=numpy.float128)\n",
    "        inds=x < 1e3\n",
    "        #small values can be directly calculated\n",
    "        retvals[inds] = x[inds]**2/(numpy.exp(x[inds])-1.0)\n",
    "        #in the limit of large x, f(x)~exp(-x)\n",
    "        retvals[~inds] = numpy.exp(-x[~inds])\n",
    "        return retvals\n",
    "    #we assume we have a number\n",
    "    else:\n",
    "        if(type(x)!='float128'):\n",
    "            x=numpy.float128(x)\n",
    "        if(x > 1e3):\n",
    "            return numpy.exp(-x)\n",
    "        else:\n",
    "            return x**2/(numpy.exp(x)-1.0)\n",
    "\n",
    "y=power_integral(x)\n",
    "loglog(x,y) \n",
    "print(\"Minimum Value Calculated:\",min(y[y>0]))\n",
    "show()\n",
    "\n",
    "for xval in [1e-4,1e0,1e4]:\n",
    "    print(\"Input\",xval,\"\\tOutput\",power_integral(xval))"
   ]
  },
  {
   "cell_type": "code",
   "execution_count": null,
   "metadata": {},
   "outputs": [],
   "source": []
  }
 ],
 "metadata": {
  "kernelspec": {
   "display_name": "Python 3",
   "language": "python",
   "name": "python3"
  },
  "language_info": {
   "codemirror_mode": {
    "name": "ipython",
    "version": 3
   },
   "file_extension": ".py",
   "mimetype": "text/x-python",
   "name": "python",
   "nbconvert_exporter": "python",
   "pygments_lexer": "ipython3",
   "version": "3.6.8"
  }
 },
 "nbformat": 4,
 "nbformat_minor": 2
}
